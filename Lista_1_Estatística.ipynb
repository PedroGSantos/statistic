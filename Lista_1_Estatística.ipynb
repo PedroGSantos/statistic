{
  "nbformat": 4,
  "nbformat_minor": 0,
  "metadata": {
    "colab": {
      "provenance": []
    },
    "kernelspec": {
      "name": "python3",
      "display_name": "Python 3"
    },
    "language_info": {
      "name": "python"
    }
  },
  "cells": [
    {
      "cell_type": "markdown",
      "source": [
        "Biblioteca para manipulação de dados"
      ],
      "metadata": {
        "id": "3wSD_lZtT0n-"
      }
    },
    {
      "cell_type": "code",
      "execution_count": 39,
      "metadata": {
        "id": "rBF_Zu309KFd"
      },
      "outputs": [],
      "source": [
        "import pandas as p"
      ]
    },
    {
      "cell_type": "markdown",
      "source": [
        "Biblioteca para geração de gráficos"
      ],
      "metadata": {
        "id": "k6NB2kPWT3km"
      }
    },
    {
      "cell_type": "code",
      "source": [
        "import matplotlib.pyplot as plt"
      ],
      "metadata": {
        "id": "GIBII-2nT84K"
      },
      "execution_count": 40,
      "outputs": []
    },
    {
      "cell_type": "markdown",
      "source": [
        "# Exercício 2\n",
        "\n",
        "Uma industria de laticínios planeja redirecionar seus produtos. Para tanto, decidiu investigar a quantidade de leite (em litros) consumida diariamente por diferentes famílias. Os dados (ordenados) estao a seguir:\n",
        "```\n",
        "1, 1, 1, 2, 2, 2, 2, 2, 2, 2, 2, 2, 2, 3, 3, 3, 3, 3, 3, 3, 3, 3, 3, 3, 4, 4, 4, 4, 4, 4, 4, 4,\n",
        "5, 5, 5, 5, 5, 6, 7, 7, 8, 16\n",
        "```\n",
        "\n",
        "a) Calcule a media, a mediana e os quartis Q1, Q2 e Q3.\n",
        "\n",
        "b) Construa uma tabela de frequencias e um gráfico de barras.\n",
        "\n",
        "c) Construa um diagrama de caixa.\n",
        "\n",
        "d) Dentre a media e a mediana, calculadas em ` a)`, qual delas resume mais adequadamente esse conjunto de dados?\n",
        "\n",
        "e) Ha um valor excepcional dentre os observados. Remova-o e recalcule a média e a\n",
        "mediana. Comente as diferenc¸as encontradas."
      ],
      "metadata": {
        "id": "wtuhSk4oHKyT"
      }
    },
    {
      "cell_type": "markdown",
      "source": [
        "Criação do dataframe. Pandas trabalha com dataframes unidimensionais ou bidimensionais. Nesse caso, temos um unidimensional"
      ],
      "metadata": {
        "id": "FiU0gQaxTUjd"
      }
    },
    {
      "cell_type": "code",
      "source": [
        "data = {'QtdLeite': [1, 1, 1, 2, 2, 2, 2, 2, 2, 2, 2, 2, 2, 3, 3, 3, 3, 3, 3, 3, 3, 3, 3, 3, 4, 4, 4, 4, 4, 4, 4, 4,\n",
        "5, 5, 5, 5, 5, 6, 7, 7, 8, 16]}\n",
        "\n",
        "df = pd.DataFrame(data)\n",
        "print(df['QtdLeite'])"
      ],
      "metadata": {
        "colab": {
          "base_uri": "https://localhost:8080/"
        },
        "id": "c80YuIM-HI7f",
        "outputId": "63dd6c74-fce3-4054-e9b2-2d03e4b9403d"
      },
      "execution_count": 53,
      "outputs": [
        {
          "output_type": "stream",
          "name": "stdout",
          "text": [
            "0      1\n",
            "1      1\n",
            "2      1\n",
            "3      2\n",
            "4      2\n",
            "5      2\n",
            "6      2\n",
            "7      2\n",
            "8      2\n",
            "9      2\n",
            "10     2\n",
            "11     2\n",
            "12     2\n",
            "13     3\n",
            "14     3\n",
            "15     3\n",
            "16     3\n",
            "17     3\n",
            "18     3\n",
            "19     3\n",
            "20     3\n",
            "21     3\n",
            "22     3\n",
            "23     3\n",
            "24     4\n",
            "25     4\n",
            "26     4\n",
            "27     4\n",
            "28     4\n",
            "29     4\n",
            "30     4\n",
            "31     4\n",
            "32     5\n",
            "33     5\n",
            "34     5\n",
            "35     5\n",
            "36     5\n",
            "37     6\n",
            "38     7\n",
            "39     7\n",
            "40     8\n",
            "41    16\n",
            "Name: QtdLeite, dtype: int64\n"
          ]
        }
      ]
    },
    {
      "cell_type": "markdown",
      "source": [
        "Calculo da média"
      ],
      "metadata": {
        "id": "xIa7wTnXTNfQ"
      }
    },
    {
      "cell_type": "code",
      "source": [
        "print(df['QtdLeite'].mean())"
      ],
      "metadata": {
        "colab": {
          "base_uri": "https://localhost:8080/"
        },
        "id": "wjThyCSbH1xN",
        "outputId": "35f746f4-5067-46bf-844d-8539bce14e5b"
      },
      "execution_count": 42,
      "outputs": [
        {
          "output_type": "stream",
          "name": "stdout",
          "text": [
            "3.738095238095238\n"
          ]
        }
      ]
    },
    {
      "cell_type": "markdown",
      "source": [
        "Calculo da mediana"
      ],
      "metadata": {
        "id": "Ij_X0o3lTK-h"
      }
    },
    {
      "cell_type": "code",
      "source": [
        "print(df['QtdLeite'].median())"
      ],
      "metadata": {
        "colab": {
          "base_uri": "https://localhost:8080/"
        },
        "id": "BZNbWLs1IvGK",
        "outputId": "6d99d8b1-82b3-44f9-bddb-c495cbadf688"
      },
      "execution_count": 43,
      "outputs": [
        {
          "output_type": "stream",
          "name": "stdout",
          "text": [
            "3.0\n"
          ]
        }
      ]
    },
    {
      "cell_type": "markdown",
      "source": [
        "Calculo dos quartis"
      ],
      "metadata": {
        "id": "NCa6yu4pTJEq"
      }
    },
    {
      "cell_type": "code",
      "source": [
        "print(df['QtdLeite'].quantile([0.25, 0.50, 0.75]))"
      ],
      "metadata": {
        "colab": {
          "base_uri": "https://localhost:8080/"
        },
        "id": "7grFcONhO6Ri",
        "outputId": "e303950d-33be-4178-bff0-47d8d8c1b718"
      },
      "execution_count": 44,
      "outputs": [
        {
          "output_type": "stream",
          "name": "stdout",
          "text": [
            "0.25    2.0\n",
            "0.50    3.0\n",
            "0.75    4.0\n",
            "Name: QtdLeite, dtype: float64\n"
          ]
        }
      ]
    },
    {
      "cell_type": "markdown",
      "source": [
        "Tabela de frequência relativa, necessário usar o `normalize = True` para tratar que a soma das frequências relativas resulte em 1"
      ],
      "metadata": {
        "id": "7u_do9z-Sy8y"
      }
    },
    {
      "cell_type": "code",
      "source": [
        "relativeFrequency = df['QtdLeite'].value_counts(normalize=True, ascending=True)\n",
        "print(relativeFrequency)"
      ],
      "metadata": {
        "colab": {
          "base_uri": "https://localhost:8080/"
        },
        "id": "eZJwu-DHSf3k",
        "outputId": "8086703f-44d7-48ef-9489-29491f0ecaa2"
      },
      "execution_count": 45,
      "outputs": [
        {
          "output_type": "stream",
          "name": "stdout",
          "text": [
            "QtdLeite\n",
            "6     0.023810\n",
            "8     0.023810\n",
            "16    0.023810\n",
            "7     0.047619\n",
            "1     0.071429\n",
            "5     0.119048\n",
            "4     0.190476\n",
            "2     0.238095\n",
            "3     0.261905\n",
            "Name: proportion, dtype: float64\n"
          ]
        }
      ]
    },
    {
      "cell_type": "markdown",
      "source": [
        "Gráfico de barras"
      ],
      "metadata": {
        "id": "tBU7gLO2UMGz"
      }
    },
    {
      "cell_type": "code",
      "source": [
        "relativeFrequency.plot(kind='bar')\n",
        "plt.xlabel('Quantidade de leite consumido')\n",
        "plt.ylabel('Frequência Relativa')\n",
        "plt.title('Frequência de consumo de leite por família')\n",
        "\n",
        "plt.show()"
      ],
      "metadata": {
        "colab": {
          "base_uri": "https://localhost:8080/",
          "height": 476
        },
        "id": "8jJTm_XUUKD3",
        "outputId": "34e07270-315b-4a17-f68a-c60456d880a7"
      },
      "execution_count": 46,
      "outputs": [
        {
          "output_type": "display_data",
          "data": {
            "text/plain": [
              "<Figure size 640x480 with 1 Axes>"
            ],
            "image/png": "[encoded data removed]"
          },
          "metadata": {}
        }
      ]
    },
    {
      "cell_type": "code",
      "source": [
        "plt.boxplot(df['QtdLeite'])\n",
        "plt.show()"
      ],
      "metadata": {
        "colab": {
          "base_uri": "https://localhost:8080/",
          "height": 430
        },
        "id": "IEK8NY2ZZXTW",
        "outputId": "422f3e73-173f-4d94-f4b7-ccef5330d745"
      },
      "execution_count": 47,
      "outputs": [
        {
          "output_type": "display_data",
          "data": {
            "text/plain": [
              "<Figure size 640x480 with 1 Axes>"
            ],
            "image/png": "[encoded data removed]"
          },
          "metadata": {}
        }
      ]
    },
    {
      "cell_type": "code",
      "source": [
        "# Remoção do elemento 16 do conjunto de dados\n",
        "df = df.drop(df[df['QtdLeite'] >= 16].index)"
      ],
      "metadata": {
        "id": "r8wqldc5b0SF"
      },
      "execution_count": 54,
      "outputs": []
    },
    {
      "cell_type": "code",
      "source": [
        "print(df['QtdLeite'].mean())"
      ],
      "metadata": {
        "colab": {
          "base_uri": "https://localhost:8080/"
        },
        "id": "d-eXw8CRcQLG",
        "outputId": "422cd1e9-5705-4df1-8c4b-616dca37fca1"
      },
      "execution_count": 56,
      "outputs": [
        {
          "output_type": "stream",
          "name": "stdout",
          "text": [
            "3.4390243902439024\n"
          ]
        }
      ]
    },
    {
      "cell_type": "code",
      "source": [
        "print(df['QtdLeite'].median())"
      ],
      "metadata": {
        "colab": {
          "base_uri": "https://localhost:8080/"
        },
        "id": "RYJ084j6dOqH",
        "outputId": "633f209d-39ea-4e5f-c55b-73df254e35d2"
      },
      "execution_count": 57,
      "outputs": [
        {
          "output_type": "stream",
          "name": "stdout",
          "text": [
            "3.0\n"
          ]
        }
      ]
    }
  ]
}